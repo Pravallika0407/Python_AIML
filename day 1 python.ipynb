{
 "cells": [
  {
   "cell_type": "markdown",
   "id": "493fa8fe",
   "metadata": {},
   "source": [
    "# MANIPULATE USING A LIST.\n"
   ]
  },
  {
   "cell_type": "code",
   "execution_count": 3,
   "id": "31ab54bb",
   "metadata": {},
   "outputs": [
    {
     "data": {
      "text/plain": [
       "['4', 'july', 2001]"
      ]
     },
     "execution_count": 3,
     "metadata": {},
     "output_type": "execute_result"
    }
   ],
   "source": [
    "list = ['4','july',2001]\n",
    "list"
   ]
  },
  {
   "cell_type": "code",
   "execution_count": 7,
   "id": "54df421c",
   "metadata": {},
   "outputs": [
    {
     "data": {
      "text/plain": [
       "['4', 'july', 2001, 'happy']"
      ]
     },
     "execution_count": 7,
     "metadata": {},
     "output_type": "execute_result"
    }
   ],
   "source": [
    "# 1. To add new elements to the end of the list\n",
    "list.append('happy')\n",
    "list"
   ]
  },
  {
   "cell_type": "code",
   "execution_count": 10,
   "id": "6bcee3bc",
   "metadata": {},
   "outputs": [
    {
     "data": {
      "text/plain": [
       "['4', 'july', 2001, 'happy', ['22', '26']]"
      ]
     },
     "execution_count": 10,
     "metadata": {},
     "output_type": "execute_result"
    }
   ],
   "source": [
    "list.append(['22','26'])\n",
    "list"
   ]
  },
  {
   "cell_type": "code",
   "execution_count": 28,
   "id": "3abafb14",
   "metadata": {},
   "outputs": [
    {
     "name": "stdout",
     "output_type": "stream",
     "text": [
      "[5, 4, 3, 2, 1]\n"
     ]
    }
   ],
   "source": [
    "# 2. To reverse elements of the list\n",
    "my_list = [1,2,3,4,5]\n",
    "my_list.reverse()\n",
    "print(my_list)\n"
   ]
  },
  {
   "cell_type": "code",
   "execution_count": 30,
   "id": "a3f765d8",
   "metadata": {},
   "outputs": [
    {
     "data": {
      "text/plain": [
       "[1, 2, 3, 4, 5, 1, 2, 3, 4, 5, 1, 2, 3, 4, 5, 1, 2, 3, 4, 5]"
      ]
     },
     "execution_count": 30,
     "metadata": {},
     "output_type": "execute_result"
    }
   ],
   "source": [
    "# 3. To display the same list of elements multiple times\n",
    "my_list = [1,2,3,4,5]\n",
    "my_list = my_list*4\n",
    "my_list\n"
   ]
  },
  {
   "cell_type": "code",
   "execution_count": 31,
   "id": "f56895e2",
   "metadata": {},
   "outputs": [
    {
     "data": {
      "text/plain": [
       "[1, 2, 3, 4, 5, 6]"
      ]
     },
     "execution_count": 31,
     "metadata": {},
     "output_type": "execute_result"
    }
   ],
   "source": [
    "#4. To concatenate two list\n",
    "list1 = [1,2,3]\n",
    "list2 = [4,5,6]\n",
    "my_list = list1 + list2\n",
    "my_list"
   ]
  },
  {
   "cell_type": "code",
   "execution_count": 33,
   "id": "82c54ccb",
   "metadata": {},
   "outputs": [
    {
     "data": {
      "text/plain": [
       "[2, 3, 4, 5, 6, 7, 9]"
      ]
     },
     "execution_count": 33,
     "metadata": {},
     "output_type": "execute_result"
    }
   ],
   "source": [
    "#5. To sort the elements in the ascending order\n",
    "my_list = [7,4,3,5,2,9,6]\n",
    "my_list.sort()\n",
    "my_list"
   ]
  },
  {
   "cell_type": "markdown",
   "id": "fcf5a869",
   "metadata": {},
   "source": [
    "# 2. write a python program to do in the tuples"
   ]
  },
  {
   "cell_type": "code",
   "execution_count": null,
   "id": "d2e6fa61",
   "metadata": {},
   "outputs": [],
   "source": [
    "#1. manipulate using tuples"
   ]
  },
  {
   "cell_type": "code",
   "execution_count": 34,
   "id": "b4f4a85c",
   "metadata": {},
   "outputs": [
    {
     "data": {
      "text/plain": [
       "(4, 5, 6, 1, 2, 3)"
      ]
     },
     "execution_count": 34,
     "metadata": {},
     "output_type": "execute_result"
    }
   ],
   "source": [
    "my_tuple = (4,5,6,1,2,3)\n",
    "my_tuple"
   ]
  },
  {
   "cell_type": "code",
   "execution_count": 42,
   "id": "38750f37",
   "metadata": {},
   "outputs": [
    {
     "data": {
      "text/plain": [
       "2"
      ]
     },
     "execution_count": 42,
     "metadata": {},
     "output_type": "execute_result"
    }
   ],
   "source": [
    "tuple = my_tuple[4]\n",
    "tuple"
   ]
  },
  {
   "cell_type": "code",
   "execution_count": 43,
   "id": "36ea3a5e",
   "metadata": {},
   "outputs": [
    {
     "data": {
      "text/plain": [
       "(1, 2)"
      ]
     },
     "execution_count": 43,
     "metadata": {},
     "output_type": "execute_result"
    }
   ],
   "source": [
    "tuple = my_tuple[3:-1]\n",
    "tuple"
   ]
  },
  {
   "cell_type": "code",
   "execution_count": 50,
   "id": "404100a0",
   "metadata": {},
   "outputs": [
    {
     "data": {
      "text/plain": [
       "(4, 5, 6, 1, 2, 3, 9, 10)"
      ]
     },
     "execution_count": 50,
     "metadata": {},
     "output_type": "execute_result"
    }
   ],
   "source": [
    "#2. To add new elements to the end of the tuples\n",
    "new_elements = (9,10)\n",
    "tuple = my_tuple + new_elements\n",
    "tuple"
   ]
  },
  {
   "cell_type": "code",
   "execution_count": 54,
   "id": "6c49079a",
   "metadata": {},
   "outputs": [
    {
     "data": {
      "text/plain": [
       "(5, 4, 3, 2, 1)"
      ]
     },
     "execution_count": 54,
     "metadata": {},
     "output_type": "execute_result"
    }
   ],
   "source": [
    "#3. To reverse elements in the tuple\n",
    "tuple = (1, 2, 3, 4, 5)\n",
    "reversed_tuple = tuple[::-1]\n",
    "reversed_tuple\n"
   ]
  },
  {
   "cell_type": "code",
   "execution_count": 55,
   "id": "5653be01",
   "metadata": {},
   "outputs": [
    {
     "data": {
      "text/plain": [
       "(1, 2, 3, 4, 5, 1, 2, 3, 4, 5, 1, 2, 3, 4, 5, 1, 2, 3, 4, 5, 1, 2, 3, 4, 5)"
      ]
     },
     "execution_count": 55,
     "metadata": {},
     "output_type": "execute_result"
    }
   ],
   "source": [
    "#4. To display the elements of the same tuple multiple time\n",
    "my_tuple = tuple*5\n",
    "my_tuple\n"
   ]
  },
  {
   "cell_type": "code",
   "execution_count": 56,
   "id": "87fd30a1",
   "metadata": {},
   "outputs": [
    {
     "data": {
      "text/plain": [
       "(7, 8, 9, 4, 5, 6)"
      ]
     },
     "execution_count": 56,
     "metadata": {},
     "output_type": "execute_result"
    }
   ],
   "source": [
    "#5. To concatenate two tuples\n",
    "tuple1 = (7,8,9)\n",
    "tuple2 = (4,5,6)\n",
    "tuple = tuple1 + tuple2\n",
    "tuple\n"
   ]
  },
  {
   "cell_type": "code",
   "execution_count": 70,
   "id": "8a14a513",
   "metadata": {},
   "outputs": [
    {
     "name": "stdout",
     "output_type": "stream",
     "text": [
      "[1, 2, 3, 5, 8]\n"
     ]
    }
   ],
   "source": [
    "#6. To sort the elements in the list in ascending order\n",
    "original_tuple = (5, 2, 8, 1, 3)\n",
    "sorted_tuple = sorted(original_tuple)\n",
    "print(sorted_tuple)\n"
   ]
  },
  {
   "cell_type": "markdown",
   "id": "72f91f9b",
   "metadata": {},
   "source": [
    "# 3. write a python program to implement the following using list.\n"
   ]
  },
  {
   "cell_type": "code",
   "execution_count": 71,
   "id": "316ece07",
   "metadata": {},
   "outputs": [
    {
     "data": {
      "text/plain": [
       "[1, 2, 3, 4, 5, 6, 7, 8, 9, 10]"
      ]
     },
     "execution_count": 71,
     "metadata": {},
     "output_type": "execute_result"
    }
   ],
   "source": [
    "#1. create a list with integers(min 10 numbers)\n",
    "my_list = [1, 2, 3, 4, 5, 6, 7, 8, 9, 10]\n",
    "my_list\n",
    "\n"
   ]
  },
  {
   "cell_type": "code",
   "execution_count": 75,
   "id": "cd2df350",
   "metadata": {},
   "outputs": [
    {
     "name": "stdout",
     "output_type": "stream",
     "text": [
      "10\n"
     ]
    }
   ],
   "source": [
    "#2. How to display the last number in the list\n",
    "my_list = [1, 2, 3, 4, 5, 6, 7, 8, 9, 10]\n",
    "last_number = my_list[-1]\n",
    "print(last_number)\n"
   ]
  },
  {
   "cell_type": "code",
   "execution_count": 76,
   "id": "94647aa2",
   "metadata": {},
   "outputs": [
    {
     "name": "stdout",
     "output_type": "stream",
     "text": [
      "[1, 2, 3, 4]\n"
     ]
    }
   ],
   "source": [
    "#3. command for displaying the values from the list[0:4]\n",
    "subset = my_list[0:4]\n",
    "print(subset)\n"
   ]
  },
  {
   "cell_type": "code",
   "execution_count": 77,
   "id": "fc0e751e",
   "metadata": {},
   "outputs": [
    {
     "name": "stdout",
     "output_type": "stream",
     "text": [
      "[3, 4, 5, 6, 7, 8, 9, 10]\n"
     ]
    }
   ],
   "source": [
    "#4. command for displaying the values from the list[2:]\n",
    "subset = my_list[2:]\n",
    "print(subset)\n"
   ]
  },
  {
   "cell_type": "code",
   "execution_count": 78,
   "id": "49e78556",
   "metadata": {},
   "outputs": [
    {
     "name": "stdout",
     "output_type": "stream",
     "text": [
      "[1, 2, 3, 4, 5, 6]\n"
     ]
    }
   ],
   "source": [
    "#5. command for displaying the values from the list[:6]\n",
    "subset = my_list[:6]\n",
    "\n",
    "print(subset)\n",
    "\n"
   ]
  },
  {
   "cell_type": "markdown",
   "id": "ef117960",
   "metadata": {},
   "source": [
    "# 4. write a python program tuple1 = (10,50,20,40,30)"
   ]
  },
  {
   "cell_type": "code",
   "execution_count": 1,
   "id": "a1f47ebc",
   "metadata": {},
   "outputs": [
    {
     "name": "stdout",
     "output_type": "stream",
     "text": [
      "10 50\n"
     ]
    }
   ],
   "source": [
    "#1. To display elements from 10 and 50 from tuples1\n",
    "tuple1 = (10,50,20,40,30)\n",
    "a = tuple1[0]\n",
    "b = tuple1[1]\n",
    "print(a,b)"
   ]
  },
  {
   "cell_type": "code",
   "execution_count": 3,
   "id": "3d8e885c",
   "metadata": {},
   "outputs": [
    {
     "data": {
      "text/plain": [
       "5"
      ]
     },
     "execution_count": 3,
     "metadata": {},
     "output_type": "execute_result"
    }
   ],
   "source": [
    "#2. To display the length of a tuple1\n",
    "length = len(tuple1)\n",
    "length"
   ]
  },
  {
   "cell_type": "code",
   "execution_count": 4,
   "id": "2ad5b3fe",
   "metadata": {},
   "outputs": [
    {
     "data": {
      "text/plain": [
       "10"
      ]
     },
     "execution_count": 4,
     "metadata": {},
     "output_type": "execute_result"
    }
   ],
   "source": [
    "#3. To find the minimum element from tuple1\n",
    "min_element = min(tuple1)\n",
    "min_element"
   ]
  },
  {
   "cell_type": "code",
   "execution_count": 5,
   "id": "786db1a3",
   "metadata": {},
   "outputs": [
    {
     "data": {
      "text/plain": [
       "150"
      ]
     },
     "execution_count": 5,
     "metadata": {},
     "output_type": "execute_result"
    }
   ],
   "source": [
    "#4. To add all elements in the tuple1\n",
    "sum = sum(tuple1)\n",
    "sum"
   ]
  },
  {
   "cell_type": "code",
   "execution_count": 7,
   "id": "e05e7abf",
   "metadata": {},
   "outputs": [
    {
     "data": {
      "text/plain": [
       "(10, 50, 20, 40, 30, 10, 50, 20, 40, 30)"
      ]
     },
     "execution_count": 7,
     "metadata": {},
     "output_type": "execute_result"
    }
   ],
   "source": [
    "#5. To display the same tuple1 multiple times\n",
    "result = tuple1 * 2\n",
    "result"
   ]
  },
  {
   "cell_type": "markdown",
   "id": "182e1961",
   "metadata": {},
   "source": [
    "# 5. write a python program"
   ]
  },
  {
   "cell_type": "code",
   "execution_count": 8,
   "id": "6e8ddbdf",
   "metadata": {},
   "outputs": [
    {
     "data": {
      "text/plain": [
       "'pravallika'"
      ]
     },
     "execution_count": 8,
     "metadata": {},
     "output_type": "execute_result"
    }
   ],
   "source": [
    "name = \"pravallika\"\n",
    "name\n"
   ]
  },
  {
   "cell_type": "code",
   "execution_count": 9,
   "id": "d8eae6c1",
   "metadata": {},
   "outputs": [
    {
     "data": {
      "text/plain": [
       "10"
      ]
     },
     "execution_count": 9,
     "metadata": {},
     "output_type": "execute_result"
    }
   ],
   "source": [
    "#1. To calculate the length of the string\n",
    "length = len(name)\n",
    "length"
   ]
  },
  {
   "cell_type": "code",
   "execution_count": 10,
   "id": "75eb772d",
   "metadata": {},
   "outputs": [
    {
     "data": {
      "text/plain": [
       "'akillavarp'"
      ]
     },
     "execution_count": 10,
     "metadata": {},
     "output_type": "execute_result"
    }
   ],
   "source": [
    "#2. To reverse words in a string\n",
    "reverse = name[::-1]\n",
    "reverse"
   ]
  },
  {
   "cell_type": "code",
   "execution_count": 11,
   "id": "538a6d1a",
   "metadata": {},
   "outputs": [
    {
     "data": {
      "text/plain": [
       "'pravallikapravallikapravallikapravallikapravallika'"
      ]
     },
     "execution_count": 11,
     "metadata": {},
     "output_type": "execute_result"
    }
   ],
   "source": [
    "#3. To display same string multiple times\n",
    "result = name*5\n",
    "result\n"
   ]
  },
  {
   "cell_type": "code",
   "execution_count": 12,
   "id": "3b87f2f8",
   "metadata": {},
   "outputs": [
    {
     "data": {
      "text/plain": [
       "'pravallikakalimi'"
      ]
     },
     "execution_count": 12,
     "metadata": {},
     "output_type": "execute_result"
    }
   ],
   "source": [
    "#4. To concatenate two strings\n",
    "name1 = \"kalimi\"\n",
    "concat = name+name1\n",
    "concat"
   ]
  },
  {
   "cell_type": "code",
   "execution_count": 13,
   "id": "62e922df",
   "metadata": {},
   "outputs": [
    {
     "data": {
      "text/plain": [
       "'india'"
      ]
     },
     "execution_count": 13,
     "metadata": {},
     "output_type": "execute_result"
    }
   ],
   "source": [
    "#5. Str1 = \"south india\",using scilcing to display \"india\"\n",
    "str1 = \"south india\"\n",
    "str2 = str1[6:]\n",
    "str2"
   ]
  },
  {
   "cell_type": "markdown",
   "id": "80c337b5",
   "metadata": {},
   "source": [
    "# 6.Perform the following"
   ]
  },
  {
   "cell_type": "code",
   "execution_count": 1,
   "id": "e08edc1d",
   "metadata": {},
   "outputs": [
    {
     "data": {
      "text/plain": [
       "{'name': 'pravallika', 'age': '22', 'grade': 'A+'}"
      ]
     },
     "execution_count": 1,
     "metadata": {},
     "output_type": "execute_result"
    }
   ],
   "source": [
    "#1. creating the dictionary\n",
    "student = {'name' : 'pravallika', 'age' : '22', 'grade' : 'A+'}\n",
    "student"
   ]
  },
  {
   "cell_type": "code",
   "execution_count": null,
   "id": "927e32b9",
   "metadata": {},
   "outputs": [],
   "source": [
    "# 2. Accessing values and keys in the dictionary\n",
    "age = student['age']\n",
    "age"
   ]
  },
  {
   "cell_type": "code",
   "execution_count": 3,
   "id": "88f4a02e",
   "metadata": {},
   "outputs": [
    {
     "data": {
      "text/plain": [
       "{'name': 'pravallika', 'age': '22', 'grade': 'A+'}"
      ]
     },
     "execution_count": 3,
     "metadata": {},
     "output_type": "execute_result"
    }
   ],
   "source": [
    "#3. updating the dictionary using a function\n",
    "student.update(student)\n",
    "student"
   ]
  },
  {
   "cell_type": "code",
   "execution_count": 7,
   "id": "12f51409",
   "metadata": {},
   "outputs": [
    {
     "name": "stdout",
     "output_type": "stream",
     "text": [
      "{'name': 'pravallika', 'grade': 'A+'}\n",
      "{}\n"
     ]
    }
   ],
   "source": [
    "#4. clear and delete the dictionary values\n",
    "student = {'name' : 'pravallika', 'age' : '22', 'grade' : 'A+'}\n",
    "del student['age']\n",
    "print(student)\n",
    "student.clear()\n",
    "print(student)\n"
   ]
  },
  {
   "cell_type": "markdown",
   "id": "014aa959",
   "metadata": {},
   "source": [
    "# 7. python program to insert a number to any position in a list."
   ]
  },
  {
   "cell_type": "code",
   "execution_count": 10,
   "id": "211ced67",
   "metadata": {},
   "outputs": [
    {
     "data": {
      "text/plain": [
       "[1, 2, 3, 8, 4, 5, 6]"
      ]
     },
     "execution_count": 10,
     "metadata": {},
     "output_type": "execute_result"
    }
   ],
   "source": [
    "list=[1,2,3,4,5,6]\n",
    "list.insert(3,8)\n",
    "list"
   ]
  },
  {
   "cell_type": "markdown",
   "id": "7ef6385f",
   "metadata": {},
   "source": [
    "# 8.python program to delete an element from a list by index"
   ]
  },
  {
   "cell_type": "code",
   "execution_count": 15,
   "id": "ce49a066",
   "metadata": {},
   "outputs": [
    {
     "data": {
      "text/plain": [
       "[4, 5, 6, 8]"
      ]
     },
     "execution_count": 15,
     "metadata": {},
     "output_type": "execute_result"
    }
   ],
   "source": [
    "list=[1,4,5,6,8]\n",
    "list.pop(0)\n",
    "list"
   ]
  },
  {
   "cell_type": "markdown",
   "id": "e34df9d2",
   "metadata": {},
   "source": [
    "# 9.write a python program to display a number from 1 to 100"
   ]
  },
  {
   "cell_type": "code",
   "execution_count": 1,
   "id": "89bc773c",
   "metadata": {},
   "outputs": [
    {
     "name": "stdout",
     "output_type": "stream",
     "text": [
      "1\n",
      "2\n",
      "3\n",
      "4\n",
      "5\n",
      "6\n",
      "7\n",
      "8\n",
      "9\n",
      "10\n",
      "11\n",
      "12\n",
      "13\n",
      "14\n",
      "15\n",
      "16\n",
      "17\n",
      "18\n",
      "19\n",
      "20\n",
      "21\n",
      "22\n",
      "23\n",
      "24\n",
      "25\n",
      "26\n",
      "27\n",
      "28\n",
      "29\n",
      "30\n",
      "31\n",
      "32\n",
      "33\n",
      "34\n",
      "35\n",
      "36\n",
      "37\n",
      "38\n",
      "39\n",
      "40\n",
      "41\n",
      "42\n",
      "43\n",
      "44\n",
      "45\n",
      "46\n",
      "47\n",
      "48\n",
      "49\n",
      "50\n",
      "51\n",
      "52\n",
      "53\n",
      "54\n",
      "55\n",
      "56\n",
      "57\n",
      "58\n",
      "59\n",
      "60\n",
      "61\n",
      "62\n",
      "63\n",
      "64\n",
      "65\n",
      "66\n",
      "67\n",
      "68\n",
      "69\n",
      "70\n",
      "71\n",
      "72\n",
      "73\n",
      "74\n",
      "75\n",
      "76\n",
      "77\n",
      "78\n",
      "79\n",
      "80\n",
      "81\n",
      "82\n",
      "83\n",
      "84\n",
      "85\n",
      "86\n",
      "87\n",
      "88\n",
      "89\n",
      "90\n",
      "91\n",
      "92\n",
      "93\n",
      "94\n",
      "95\n",
      "96\n",
      "97\n",
      "98\n",
      "99\n",
      "100\n"
     ]
    }
   ],
   "source": [
    "for i in range(1,101):\n",
    "    print(i)"
   ]
  },
  {
   "cell_type": "markdown",
   "id": "37dd3dee",
   "metadata": {},
   "source": [
    "# 10.write a python program to find the sum of all items in a tuple\n"
   ]
  },
  {
   "cell_type": "code",
   "execution_count": 2,
   "id": "836ed13e",
   "metadata": {},
   "outputs": [
    {
     "data": {
      "text/plain": [
       "15"
      ]
     },
     "execution_count": 2,
     "metadata": {},
     "output_type": "execute_result"
    }
   ],
   "source": [
    "tuple=(4,5,6)\n",
    "result=sum(tuple)\n",
    "result"
   ]
  },
  {
   "cell_type": "markdown",
   "id": "3a922354",
   "metadata": {},
   "source": [
    "# 11.create a dictionary containing three lamda functions square, cube, square root"
   ]
  },
  {
   "cell_type": "code",
   "execution_count": 1,
   "id": "0749123b",
   "metadata": {},
   "outputs": [
    {
     "name": "stdout",
     "output_type": "stream",
     "text": [
      "square: 12\n",
      "cube: 216\n",
      "square_root: 2.449489742783178\n"
     ]
    }
   ],
   "source": [
    "math_operations = {\n",
    "    'square' : lambda x : x*2,\n",
    "    'cube' : lambda x : x**3,\n",
    "    'square_root': lambda x : x**0.5\n",
    "}\n",
    "number=6\n",
    "print(\"square:\", math_operations['square'](number))\n",
    "print(\"cube:\", math_operations['cube'](number))\n",
    "print(\"square_root:\", math_operations['square_root'](number))\n",
    "\n"
   ]
  },
  {
   "cell_type": "markdown",
   "id": "bb5ff671",
   "metadata": {},
   "source": [
    "# 12. list of the words are given. Find the words from the list that have there second character in uppercase\n"
   ]
  },
  {
   "cell_type": "code",
   "execution_count": 2,
   "id": "b034360a",
   "metadata": {},
   "outputs": [
    {
     "data": {
      "text/plain": [
       "['hOw', 'ARe']"
      ]
     },
     "execution_count": 2,
     "metadata": {},
     "output_type": "execute_result"
    }
   ],
   "source": [
    "list=['hello', 'Dear', 'hOw', 'ARe', 'You']\n",
    "result=[word for word in list if len(word)>1 and word[1].isupper()]\n",
    "result"
   ]
  },
  {
   "cell_type": "markdown",
   "id": "5a40d1aa",
   "metadata": {},
   "source": [
    "# 13. A dictonary of names and their weights on earth is given. Find how much they will weight on the moon. Formula:wMoon=(wEarth*GMoon)/GEarth"
   ]
  },
  {
   "cell_type": "code",
   "execution_count": 3,
   "id": "764a599c",
   "metadata": {},
   "outputs": [
    {
     "name": "stdout",
     "output_type": "stream",
     "text": [
      "{'John': 7.440366972477065, 'Shelly': 10.747196738022426, 'Marry': 5.786952089704383}\n"
     ]
    }
   ],
   "source": [
    "WeightOnEarth = {'John':45, 'Shelly':65, 'Marry':35}\n",
    "GMoon = 1.622\n",
    "GEarth = 9.81\n",
    "calculate_weight_on_moon = lambda weight : (weight*GMoon)/GEarth\n",
    "weights_on_moon = map(calculate_weight_on_moon,WeightOnEarth.values())\n",
    "weights_on_moon_dict=dict(zip(WeightOnEarth.keys(),weights_on_moon))\n",
    "print(weights_on_moon_dict)\n"
   ]
  },
  {
   "cell_type": "code",
   "execution_count": null,
   "id": "fcfddba8",
   "metadata": {},
   "outputs": [],
   "source": []
  }
 ],
 "metadata": {
  "kernelspec": {
   "display_name": "Python 3 (ipykernel)",
   "language": "python",
   "name": "python3"
  },
  "language_info": {
   "codemirror_mode": {
    "name": "ipython",
    "version": 3
   },
   "file_extension": ".py",
   "mimetype": "text/x-python",
   "name": "python",
   "nbconvert_exporter": "python",
   "pygments_lexer": "ipython3",
   "version": "3.11.4"
  }
 },
 "nbformat": 4,
 "nbformat_minor": 5
}
