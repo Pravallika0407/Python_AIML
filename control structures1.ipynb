{
 "cells": [
  {
   "cell_type": "markdown",
   "id": "44aa772d",
   "metadata": {},
   "source": [
    "# 1. write a python program to find the first N prime numbers"
   ]
  },
  {
   "cell_type": "code",
   "execution_count": 2,
   "id": "f469d8ea",
   "metadata": {},
   "outputs": [
    {
     "name": "stdout",
     "output_type": "stream",
     "text": [
      "Enter the value of N: 5\n",
      "The first 5 prime numbers are: [2, 3, 5, 7, 11]\n"
     ]
    }
   ],
   "source": [
    "#1. write a python program to find the first N prime numbers\n",
    "def is_prime(number):\n",
    "    if number <= 1:\n",
    "        return False\n",
    "    for i in range(2, int(number ** 0.5) + 1):\n",
    "        if number % i == 0:\n",
    "            return False\n",
    "    return True\n",
    "\n",
    "def find_primes(N):\n",
    "    primes = []\n",
    "    num = 2\n",
    "    while len(primes) < N:\n",
    "        if is_prime(num):\n",
    "            primes.append(num)\n",
    "        num += 1\n",
    "    return primes\n",
    "\n",
    "N = int(input(\"Enter the value of N: \"))\n",
    "prime_numbers = find_primes(N)\n",
    "print(f\"The first {N} prime numbers are: {prime_numbers}\")\n",
    "\n"
   ]
  },
  {
   "cell_type": "markdown",
   "id": "45ffed1f",
   "metadata": {},
   "source": [
    "# 2. write the python code that calculate the salary of an employee. prompt the user to enter the basic salary, HRA, TA, and DA. Add these components to calculate the Gross salary. Also, deduct 10% of salary from the Gross salary to be paid as tax and display gross minus tax as net salary."
   ]
  },
  {
   "cell_type": "code",
   "execution_count": 3,
   "id": "f6ba6b13",
   "metadata": {},
   "outputs": [
    {
     "name": "stdout",
     "output_type": "stream",
     "text": [
      "Enter Basic Salary: 30000\n",
      "Enter HRA: 16000\n",
      "Enter TA: 4000\n",
      "Enter DA: 3000\n",
      "Gross Salary: 53000.00\n",
      "Tax (10%): 5300.00\n",
      "Net Salary: 47700.00\n"
     ]
    }
   ],
   "source": [
    "\n",
    "\n",
    "# Prompt the user to enter basic salary, HRA, TA, and DA\n",
    "basic_salary = float(input(\"Enter Basic Salary: \"))\n",
    "hra = float(input(\"Enter HRA: \"))\n",
    "ta = float(input(\"Enter TA: \"))\n",
    "da = float(input(\"Enter DA: \"))\n",
    "\n",
    "# Calculate Gross Salary\n",
    "gross_salary = basic_salary + hra + ta + da\n",
    "\n",
    "# Calculate Tax (10% of Gross Salary)\n",
    "tax = 0.10 * gross_salary\n",
    "\n",
    "# Calculate Net Salary (Gross Salary - Tax)\n",
    "net_salary = gross_salary - tax\n",
    "\n",
    "# Display Gross Salary, Tax, and Net Salary\n",
    "print(f\"Gross Salary: {gross_salary:.2f}\")\n",
    "print(f\"Tax (10%): {tax:.2f}\")\n",
    "print(f\"Net Salary: {net_salary:.2f}\")\n",
    "\n",
    "\n"
   ]
  },
  {
   "cell_type": "markdown",
   "id": "8dda08bd",
   "metadata": {},
   "source": [
    "# 3.write a python program to search for a string in the given list"
   ]
  },
  {
   "cell_type": "code",
   "execution_count": null,
   "id": "2dc96f1d",
   "metadata": {},
   "outputs": [],
   "source": [
    "\n",
    "string_list = [\"apple\", \"banana\", \"cherry\", \"date\", \"elderberry\"]\n",
    "search_string = input(\"Enter the string to search for: \")\n",
    "\n",
    "# Initialize a flag to check if the string is found\n",
    "found = False\n",
    "\n",
    "# Iterate through the list and check for a match\n",
    "for item in string_list:\n",
    "    if search_string.lower() == item.lower():  # Case-insensitive comparison\n",
    "        found = True\n",
    "        break\n",
    "\n",
    "# Check if the string was found or not\n",
    "if found:\n",
    "    print(f\"'{search_string}' was found in the list.\")\n",
    "else:\n",
    "    print(f\"'{search_string}' was not found in the list.\")\n"
   ]
  },
  {
   "cell_type": "markdown",
   "id": "a31135c4",
   "metadata": {},
   "source": [
    "# 4. write a python function that accepts a string and calculates the number of upper-case letters and lower-case letters"
   ]
  },
  {
   "cell_type": "code",
   "execution_count": 2,
   "id": "15b796b8",
   "metadata": {},
   "outputs": [
    {
     "name": "stdout",
     "output_type": "stream",
     "text": [
      "Enter a string: PravaLLika\n",
      "Number of upper-case letters: 3\n",
      "Number of lower-case letters: 7\n"
     ]
    }
   ],
   "source": [
    "\n",
    "def count_case_characters(input_string):\n",
    "    # Initialize counters for upper and lower case letters\n",
    "    upper_count = 0\n",
    "    lower_count = 0\n",
    "    \n",
    "    # Iterate through each character in the input string\n",
    "    for char in input_string:\n",
    "        if char.isupper():\n",
    "            upper_count += 1\n",
    "        elif char.islower():\n",
    "            lower_count += 1\n",
    "    \n",
    "    return upper_count, lower_count\n",
    "\n",
    "# Example usage:\n",
    "input_str = input(\"Enter a string: \")\n",
    "upper, lower = count_case_characters(input_str)\n",
    "\n",
    "print(f\"Number of upper-case letters: {upper}\")\n",
    "print(f\"Number of lower-case letters: {lower}\")\n"
   ]
  },
  {
   "cell_type": "markdown",
   "id": "333ec166",
   "metadata": {},
   "source": [
    "# 5. write a program to display the sum of odd numbers and even numbers that fall between 12 and 37"
   ]
  },
  {
   "cell_type": "code",
   "execution_count": 3,
   "id": "41c9d756",
   "metadata": {},
   "outputs": [
    {
     "name": "stdout",
     "output_type": "stream",
     "text": [
      "Sum of even numbers between 12 and 37: 312\n",
      "Sum of odd numbers between 12 and 37: 325\n"
     ]
    }
   ],
   "source": [
    "\n",
    "# Initialize variables to store the sums\n",
    "sum_even = 0\n",
    "sum_odd = 0\n",
    "\n",
    "# Iterate through numbers from 12 to 37\n",
    "for number in range(12, 38):\n",
    "    if number % 2 == 0:  # Check if the number is even\n",
    "        sum_even += number\n",
    "    else:\n",
    "        sum_odd += number\n",
    "\n",
    "# Display the sums\n",
    "print(f\"Sum of even numbers between 12 and 37: {sum_even}\")\n",
    "print(f\"Sum of odd numbers between 12 and 37: {sum_odd}\")\n"
   ]
  },
  {
   "cell_type": "markdown",
   "id": "2face958",
   "metadata": {},
   "source": [
    "# 6. write a python program to print table of any number"
   ]
  },
  {
   "cell_type": "code",
   "execution_count": 4,
   "id": "4ff5298c",
   "metadata": {},
   "outputs": [
    {
     "name": "stdout",
     "output_type": "stream",
     "text": [
      "Enter a number: 4\n",
      "Table of 4:\n",
      "4 x 1 = 4\n",
      "4 x 2 = 8\n",
      "4 x 3 = 12\n",
      "4 x 4 = 16\n",
      "4 x 5 = 20\n",
      "4 x 6 = 24\n",
      "4 x 7 = 28\n",
      "4 x 8 = 32\n",
      "4 x 9 = 36\n",
      "4 x 10 = 40\n"
     ]
    }
   ],
   "source": [
    "\n",
    "#Get the number for which you want to print the table\n",
    "num = int(input(\"Enter a number: \"))\n",
    "\n",
    "# Print the table of the entered number\n",
    "print(f\"Table of {num}:\")\n",
    "\n",
    "for i in range(1, 11):\n",
    "    result = num * i\n",
    "    print(f\"{num} x {i} = {result}\")\n"
   ]
  },
  {
   "cell_type": "markdown",
   "id": "e7ac3dea",
   "metadata": {},
   "source": [
    "# 7. write a python program to sum the first 10 prime numbers."
   ]
  },
  {
   "cell_type": "code",
   "execution_count": 5,
   "id": "d5f4a878",
   "metadata": {},
   "outputs": [
    {
     "name": "stdout",
     "output_type": "stream",
     "text": [
      "The sum of the first 10 prime numbers is: 129\n"
     ]
    }
   ],
   "source": [
    "\n",
    "def is_prime(number):\n",
    "    if number <= 1:\n",
    "        return False\n",
    "    if number <= 3:\n",
    "        return True\n",
    "    if number % 2 == 0 or number % 3 == 0:\n",
    "        return False\n",
    "    i = 5\n",
    "    while i * i <= number:\n",
    "        if number % i == 0 or number % (i + 2) == 0:\n",
    "            return False\n",
    "        i += 6\n",
    "    return True\n",
    "\n",
    "count = 0  # Initialize a counter for prime numbers\n",
    "num = 2     # Start with the first prime number\n",
    "\n",
    "prime_sum = 0  # Initialize the sum of prime numbers\n",
    "\n",
    "while count < 10:\n",
    "    if is_prime(num):\n",
    "        prime_sum += num\n",
    "        count += 1\n",
    "    num += 1\n",
    "\n",
    "print(f\"The sum of the first 10 prime numbers is: {prime_sum}\")\n"
   ]
  },
  {
   "cell_type": "markdown",
   "id": "66936ca4",
   "metadata": {},
   "source": [
    "# 8. write a python program to implement arithmetic operations using nested if statement.\n"
   ]
  },
  {
   "cell_type": "code",
   "execution_count": 1,
   "id": "7b585289",
   "metadata": {},
   "outputs": [
    {
     "name": "stdout",
     "output_type": "stream",
     "text": [
      " \n",
      " 1.Addition \n",
      " 2.Subtraction \n",
      " 3. Multiplication \n",
      " 4. Division\n",
      "enter your choice (1/2/3/4)\n",
      "2\n",
      "enter number 14\n",
      "enter number 21\n",
      "Result: 3.0\n"
     ]
    }
   ],
   "source": [
    "def arithmetic_operations():\n",
    "\n",
    "  print(\" \\n 1.Addition \\n 2.Subtraction \\n 3. Multiplication \\n 4. Division\")\n",
    "  choice = input(\"enter your choice (1/2/3/4)\\n\")\n",
    "\n",
    "  if choice in ('1','2','3','4'):\n",
    "    number1 = float(input(\"enter number 1\"))\n",
    "    number2 = float(input(\"enter number 2\"))\n",
    "\n",
    "    if choice == '1':\n",
    "        result = number1 + number2\n",
    "        print(\"Result:\", result)\n",
    "    elif choice == '2':\n",
    "        result = number1 - number2\n",
    "        print(\"Result:\", result)\n",
    "    elif choice == '3':\n",
    "        result = number1 * number2\n",
    "        print(\"Result:\", result)\n",
    "    elif choice == '4':\n",
    "        # Check for division by zero\n",
    "        if number2 == 0:\n",
    "            print(\"Division by zero is not allowed.\")\n",
    "        else:\n",
    "            result = number1 / number2\n",
    "            print(\"Result:\", result)\n",
    "    else:\n",
    "        print(\"Invalid input. Please select a valid operation (1/2/3/4).\")\n",
    "arithmetic_operations()"
   ]
  },
  {
   "cell_type": "markdown",
   "id": "27e276e0",
   "metadata": {},
   "source": [
    "# 9. write a python program to take the temperature in celsius and convert it to a fahrenheit.\n"
   ]
  },
  {
   "cell_type": "code",
   "execution_count": 1,
   "id": "995411a6",
   "metadata": {},
   "outputs": [
    {
     "name": "stdout",
     "output_type": "stream",
     "text": [
      "enter tempearature in celsius \n",
      "56\n",
      "Given celsuis 56.0 reading in fahrenhit is 132.8\n"
     ]
    }
   ],
   "source": [
    "def celsius_to_fahrenhit(celsius):\n",
    "  equivalent_fahrenhit = (celsius * 9/5) + 32\n",
    "  return equivalent_fahrenhit\n",
    "\n",
    "celsius = float(input(\"enter tempearature in celsius \\n\"))\n",
    "fahrenhit = celsius_to_fahrenhit(celsius)\n",
    "\n",
    "print(f\"Given celsuis {celsius} reading in fahrenhit is {fahrenhit}\")\n",
    "\n"
   ]
  },
  {
   "cell_type": "markdown",
   "id": "2a428169",
   "metadata": {},
   "source": [
    "# 10. write a python program to find a maximumand minimum number in a list without using an inbuilt function\n"
   ]
  },
  {
   "cell_type": "code",
   "execution_count": 2,
   "id": "03f90e5c",
   "metadata": {},
   "outputs": [
    {
     "name": "stdout",
     "output_type": "stream",
     "text": [
      "Enter a list of numbers separated by spaces: 1 2 3 4 5\n",
      " the max element is 5, minimum element is 1\n"
     ]
    }
   ],
   "source": [
    "def find_max_min_in_list(lst):\n",
    "\n",
    "  max_element = min_element = lst[0]\n",
    "  for element in lst:\n",
    "    if(element > max_element):\n",
    "      max_element = element\n",
    "    else:\n",
    "      min_element = element\n",
    "\n",
    "  return max_element,min_element\n",
    "\n",
    "user_input = input(\"Enter a list of numbers separated by spaces: \")\n",
    "user_list = [int(x) for x in user_input.split()]\n",
    "\n",
    "max_element,min_element = find_max_min_in_list(user_list)\n",
    "print(f\" the max element is {max_element}, minimum element is {min_element}\")"
   ]
  },
  {
   "cell_type": "markdown",
   "id": "76e188f3",
   "metadata": {},
   "source": [
    "# 11. write a program in python to print out the number of seconds in 30-day month 30 days, 24 hours in a day, 60 minutes per day, 60 seconds in a minute."
   ]
  },
  {
   "cell_type": "code",
   "execution_count": 3,
   "id": "74c10db4",
   "metadata": {},
   "outputs": [
    {
     "name": "stdout",
     "output_type": "stream",
     "text": [
      "number of seconds in a 30_day month is 2592000\n"
     ]
    }
   ],
   "source": [
    "n_days = 30\n",
    "n_hours_per_day = 24\n",
    "n_min_per_day = 60\n",
    "n_sec_per_min = 60\n",
    "\n",
    "num_sec_in_a_month = n_days*n_hours_per_day*n_min_per_day*n_sec_per_min\n",
    "print(f\"number of seconds in a 30_day month is\", num_sec_in_a_month)"
   ]
  },
  {
   "cell_type": "markdown",
   "id": "474a3b5b",
   "metadata": {},
   "source": [
    "# 12. write a program in python to print out the number of seconds in a year\n"
   ]
  },
  {
   "cell_type": "code",
   "execution_count": 4,
   "id": "fccb488d",
   "metadata": {},
   "outputs": [
    {
     "name": "stdout",
     "output_type": "stream",
     "text": [
      " enter year 2001\n",
      "number of seconds in an given year is 31536000\n"
     ]
    }
   ],
   "source": [
    "n_days = 30\n",
    "n_hours_per_day = 24\n",
    "n_min_per_day = 60\n",
    "n_sec_per_min = 60\n",
    "\n",
    "num_sec_in_a_month = n_days*n_hours_per_day*n_min_per_day*n_sec_per_min\n",
    "\n",
    "year = int(input(\" enter year \"))\n",
    "\n",
    "if (year % 4 == 0 and year % 100 != 0) or (year % 400 == 0):\n",
    "    days_in_year = 366\n",
    "else:\n",
    "    days_in_year = 365\n",
    "\n",
    "num_sec_in_an_year = days_in_year*n_hours_per_day*n_min_per_day*n_sec_per_min\n",
    "print(f\"number of seconds in an given year is {num_sec_in_an_year}\")"
   ]
  },
  {
   "cell_type": "markdown",
   "id": "5b7e428c",
   "metadata": {},
   "source": [
    "# 13. A high-speed train can travel at an average speed of 150 mph, how long will it take a train travelling at this speed to travel from london to glassgow which is 414 miles away?\n"
   ]
  },
  {
   "cell_type": "code",
   "execution_count": 5,
   "id": "35af3917",
   "metadata": {},
   "outputs": [
    {
     "name": "stdout",
     "output_type": "stream",
     "text": [
      "It will take 2 hours and 45 minutes to travel from London to Glasgow at an average speed of 150 mph.\n"
     ]
    }
   ],
   "source": [
    "distance_miles = 414\n",
    "average_speed_mph = 150\n",
    "\n",
    "\n",
    "time_hours = distance_miles / average_speed_mph\n",
    "\n",
    "# Convert the fractional part of hours to minutes\n",
    "time_minutes = (time_hours - int(time_hours)) * 60\n",
    "\n",
    "print(f\"It will take {int(time_hours)} hours and {int(time_minutes)} minutes to travel from London to Glasgow at an average speed of {average_speed_mph} mph.\")\n"
   ]
  },
  {
   "cell_type": "markdown",
   "id": "dd3c2b8f",
   "metadata": {},
   "source": [
    "# 14. write a python program that defines a variable called days_in_each_school_year and assign 192 to the variable. The program should then print out the total hours that you spend in school from year 7 to year 11, if each day you spend 6 hours in school days_in_each_school_year=192\n"
   ]
  },
  {
   "cell_type": "code",
   "execution_count": 6,
   "id": "f13aa1fc",
   "metadata": {},
   "outputs": [
    {
     "name": "stdout",
     "output_type": "stream",
     "text": [
      "Total hours spent in school from year 7 to year 11: 5760 hours\n"
     ]
    }
   ],
   "source": [
    "days_in_each_school_year = 192\n",
    "hours_per_school_day = 6\n",
    "\n",
    "total_hours = 0\n",
    "for year in range(7, 12):\n",
    "    total_hours += days_in_each_school_year * hours_per_school_day\n",
    "\n",
    "print(f\"Total hours spent in school from year 7 to year 11: {total_hours} hours\")"
   ]
  },
  {
   "cell_type": "markdown",
   "id": "98050fef",
   "metadata": {},
   "source": [
    "# 15. If the age of Ram, Sam and Khan are input through the keyboard, write a python program to determine the eldest and youngest\n",
    "#of the three"
   ]
  },
  {
   "cell_type": "code",
   "execution_count": 7,
   "id": "ae369250",
   "metadata": {},
   "outputs": [
    {
     "name": "stdout",
     "output_type": "stream",
     "text": [
      "Enter the age of Ram: 10\n",
      "Enter the age of Sam: 12\n",
      "Enter the age of Khan: 14\n",
      "The eldest among Ram, Sam, and Khan is Khan.\n",
      "The youngest among Ram, Sam, and Khan is Ram.\n"
     ]
    }
   ],
   "source": [
    "ram_age = int(input(\"Enter the age of Ram: \"))\n",
    "sam_age = int(input(\"Enter the age of Sam: \"))\n",
    "khan_age = int(input(\"Enter the age of Khan: \"))\n",
    "\n",
    "\n",
    "if ram_age >= sam_age and ram_age >= khan_age:\n",
    "    eldest = \"Ram\"\n",
    "elif sam_age >= khan_age:\n",
    "    eldest = \"Sam\"\n",
    "else:\n",
    "    eldest = \"Khan\"\n",
    "\n",
    "\n",
    "if ram_age <= sam_age and ram_age <= khan_age:\n",
    "    youngest = \"Ram\"\n",
    "elif sam_age <= khan_age:\n",
    "    youngest = \"Sam\"\n",
    "else:\n",
    "    youngest = \"Khan\"\n",
    "\n",
    "\n",
    "print(f\"The eldest among Ram, Sam, and Khan is {eldest}.\")\n",
    "print(f\"The youngest among Ram, Sam, and Khan is {youngest}.\")"
   ]
  },
  {
   "cell_type": "markdown",
   "id": "912665b4",
   "metadata": {},
   "source": [
    "# 16. write a python program to rotate a list by right n times with and without slicing technique.\n"
   ]
  },
  {
   "cell_type": "code",
   "execution_count": 10,
   "id": "0f89ec2a",
   "metadata": {},
   "outputs": [
    {
     "name": "stdout",
     "output_type": "stream",
     "text": [
      "Enter a list of numbers separated by spaces: 8 7 6 9 3 2\n",
      "specify number of times to rotate :1\n",
      "Rotated list using slicing: [2, 8, 7, 6, 9, 3]\n",
      "Rotated list without slicing: [2, 8, 7, 6, 9, 3]\n"
     ]
    }
   ],
   "source": [
    "def rotate_right_with_slicing(lst, n):\n",
    "    n = n % len(lst)\n",
    "    rotated_list = lst[-n:] + lst[:-n]\n",
    "    return rotated_list\n",
    "\n",
    "def rotate_right_without_slicing(lst, n):\n",
    "    n = n % len(lst)\n",
    "    rotated_list = [0] * len(lst)\n",
    "    for i in range(len(lst)):\n",
    "        rotated_list[(i + n) % len(lst)] = lst[i]\n",
    "    return rotated_list\n",
    "\n",
    "\n",
    "user_input = input(\"Enter a list of numbers separated by spaces: \")\n",
    "user_list = [int(x) for x in user_input.split()]\n",
    "\n",
    "n = int(input(\"specify number of times to rotate :\"))\n",
    "\n",
    "rotated_list = rotate_right_with_slicing(user_list, n)\n",
    "print(\"Rotated list using slicing:\", rotated_list)\n",
    "\n",
    "rotated_list = rotate_right_without_slicing(user_list, n)\n",
    "print(\"Rotated list without slicing:\", rotated_list)"
   ]
  },
  {
   "cell_type": "markdown",
   "id": "732e8730",
   "metadata": {},
   "source": [
    "# 17. Python program to print patterns given below"
   ]
  },
  {
   "cell_type": "code",
   "execution_count": 11,
   "id": "0ff037ca",
   "metadata": {},
   "outputs": [
    {
     "name": "stdout",
     "output_type": "stream",
     "text": [
      "Enter the number of rows required : 4\n",
      "     1 \n",
      "    1 1 \n",
      "   1 2 1 \n",
      "  1 3 3 1 \n"
     ]
    }
   ],
   "source": [
    "# First-pattern\n",
    "from math import factorial\n",
    "n = int(input(\"Enter the number of rows required : \"))\n",
    "for i in range(n):\n",
    "    for j in range(n-i+1):\n",
    "        print(end=\" \")\n",
    "    for j in range(i+1):\n",
    "        print(factorial(i)//(factorial(j)*factorial(i-j)), end=\" \")\n",
    "    print()"
   ]
  },
  {
   "cell_type": "code",
   "execution_count": 12,
   "id": "14833c43",
   "metadata": {},
   "outputs": [
    {
     "name": "stdout",
     "output_type": "stream",
     "text": [
      "Enter the number of rows required : 6\n",
      "\n",
      "\n",
      " \n",
      "*  \n",
      "* *  \n",
      "* * *  \n",
      "* * * *  \n",
      "* * * * *  \n"
     ]
    }
   ],
   "source": [
    "# Second-pattern\n",
    "n = int(input(\"Enter the number of rows required : \"))\n",
    "print(\"\\n\")\n",
    "for i in range(0, n):\n",
    "    for j in range(0, i):\n",
    "        print(\"* \", end=\"\")\n",
    "    print(\" \")"
   ]
  },
  {
   "cell_type": "code",
   "execution_count": 13,
   "id": "fed5f7fb",
   "metadata": {},
   "outputs": [
    {
     "name": "stdout",
     "output_type": "stream",
     "text": [
      "Enter number of rows: 5\n",
      "     * \n",
      "    * * \n",
      "   * * * \n",
      "  * * * * \n",
      " * * * * * \n"
     ]
    }
   ],
   "source": [
    "# Third-pattern\n",
    "n = int(input(\"Enter number of rows: \"))\n",
    "for i in range(1, n+1):\n",
    "  print (' ' * (n - i), '* ' * i)"
   ]
  },
  {
   "cell_type": "code",
   "execution_count": 2,
   "id": "779fd849",
   "metadata": {},
   "outputs": [
    {
     "name": "stdout",
     "output_type": "stream",
     "text": [
      "Enter a title : python\n",
      "p\n",
      "py\n",
      "pyt\n",
      "pyth\n",
      "pytho\n",
      "python\n"
     ]
    }
   ],
   "source": [
    "# Fourth-pattern\n",
    "str1 = input(\"Enter a title : \")\n",
    "for i in range(len(str1)):\n",
    "    print(str1[:i+1])"
   ]
  },
  {
   "cell_type": "code",
   "execution_count": null,
   "id": "234cf737",
   "metadata": {},
   "outputs": [],
   "source": []
  },
  {
   "cell_type": "code",
   "execution_count": null,
   "id": "274424f9",
   "metadata": {},
   "outputs": [],
   "source": []
  }
 ],
 "metadata": {
  "kernelspec": {
   "display_name": "Python 3 (ipykernel)",
   "language": "python",
   "name": "python3"
  },
  "language_info": {
   "codemirror_mode": {
    "name": "ipython",
    "version": 3
   },
   "file_extension": ".py",
   "mimetype": "text/x-python",
   "name": "python",
   "nbconvert_exporter": "python",
   "pygments_lexer": "ipython3",
   "version": "3.11.4"
  }
 },
 "nbformat": 4,
 "nbformat_minor": 5
}
