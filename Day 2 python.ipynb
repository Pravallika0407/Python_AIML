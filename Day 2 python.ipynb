{
 "cells": [
  {
   "cell_type": "markdown",
   "id": "03a8e9c2",
   "metadata": {},
   "source": [
    "# 1. write a python functions to a list even and odd numbers in a list"
   ]
  },
  {
   "cell_type": "code",
   "execution_count": 1,
   "id": "44447b88",
   "metadata": {},
   "outputs": [
    {
     "name": "stdout",
     "output_type": "stream",
     "text": [
      "Even numbers: [2, 4, 6, 8, 10]\n",
      "Odd numbers: [1, 3, 5, 7, 9]\n"
     ]
    }
   ],
   "source": [
    "def even_numbers(numbers):\n",
    "    even_numbers = [num for num in numbers if num % 2 == 0]\n",
    "    return even_numbers\n",
    "def odd_numbers(numbers):\n",
    "    odd_numbers = [num for num in numbers if num % 2 != 0]\n",
    "    return odd_numbers\n",
    "numbers = [1, 2, 3, 4, 5, 6, 7, 8, 9, 10]\n",
    "even_numbers = even_numbers(numbers)\n",
    "print(\"Even numbers:\", even_numbers)\n",
    "odd_numbers = odd_numbers(numbers)\n",
    "print(\"Odd numbers:\", odd_numbers)\n"
   ]
  },
  {
   "cell_type": "markdown",
   "id": "e51c2495",
   "metadata": {},
   "source": [
    "# 2. write and run a python program that asks the user to enter 8 integers(one at a time), and then prints out how many of those integers were even numbers. For example, if the user entered 19,6,20,13,17,6, and 1, then your program should print out 3 since 3 of those numbers were even"
   ]
  },
  {
   "cell_type": "code",
   "execution_count": 3,
   "id": "cadf580d",
   "metadata": {},
   "outputs": [
    {
     "name": "stdout",
     "output_type": "stream",
     "text": [
      "enter input  number : 4\n",
      "enter input  number : 5\n",
      "enter input  number : 6\n",
      "enter input  number : 3\n",
      "enter input  number : 8\n",
      "enter input  number : 2\n",
      "enter input  number : 1\n",
      "enter input  number : 7\n",
      "evn count is 4\n"
     ]
    }
   ],
   "source": [
    "\n",
    "even_cnt = 0\n",
    "\n",
    "for i in range(8):\n",
    "  number = int(input(\"enter input  number : \"))\n",
    "  if(number % 2 == 0):\n",
    "    even_cnt += 1\n",
    "\n",
    "print(f\"evn count is {even_cnt}\")"
   ]
  },
  {
   "cell_type": "markdown",
   "id": "bba96e20",
   "metadata": {},
   "source": [
    "# 3.write a python program where you take any positive integer n, if n is even, divide it by 2 to get n/2. If n is odd, multiply it by 3 and add 1 to obtain 3n+1. Repeat the process untill you reach 1."
   ]
  },
  {
   "cell_type": "code",
   "execution_count": 6,
   "id": "f4dc009a",
   "metadata": {},
   "outputs": [
    {
     "name": "stdout",
     "output_type": "stream",
     "text": [
      "enter any positive integer : 8\n",
      "It took 3 iterations to make number n to 1\n"
     ]
    }
   ],
   "source": [
    "n = int(input(\"enter any positive integer : \"))\n",
    "\n",
    "no_of_iters = 0\n",
    "while(n != 1):\n",
    "  if(n % 2 == 0):\n",
    "    n = n/2\n",
    "    no_of_iters += 1\n",
    "  else:\n",
    "    n = 3*n + 1\n",
    "    no_of_iters += 1\n",
    "\n",
    "print(f\"It took {no_of_iters} iterations to make number n to 1\")"
   ]
  },
  {
   "cell_type": "markdown",
   "id": "a81307cc",
   "metadata": {},
   "source": [
    "# 4. write a python program to compute the sum of all multiple 3 or 5 below 500"
   ]
  },
  {
   "cell_type": "code",
   "execution_count": 2,
   "id": "0a41fd98",
   "metadata": {},
   "outputs": [
    {
     "name": "stdout",
     "output_type": "stream",
     "text": [
      "The sum of multiples of 3 or 5 below 500 is: 57918\n"
     ]
    }
   ],
   "source": [
    "def sum_multiples_3_or_5(limit):\n",
    "    total = 0\n",
    "    for num in range(limit):\n",
    "        if num % 3 == 0 or num % 5 == 0:\n",
    "            total += num\n",
    "    return total\n",
    "\n",
    "limit = 500\n",
    "result = sum_multiples_3_or_5(limit)\n",
    "print(\"The sum of multiples of 3 or 5 below 500 is:\", result)\n"
   ]
  },
  {
   "cell_type": "markdown",
   "id": "eb90078f",
   "metadata": {},
   "source": [
    "# 5. write a python program to find first 'n' prime numbers from a list of given numbers"
   ]
  },
  {
   "cell_type": "code",
   "execution_count": 9,
   "id": "0e1d2df2",
   "metadata": {},
   "outputs": [
    {
     "name": "stdout",
     "output_type": "stream",
     "text": [
      "The first 5 prime numbers from the given list are: [2, 3, 5, 7, 13]\n"
     ]
    }
   ],
   "source": [
    "def is_prime(num):\n",
    "    if num <= 1:\n",
    "        return False\n",
    "    if num == 2:\n",
    "        return True\n",
    "    if num % 2 == 0:\n",
    "        return False\n",
    "    for i in range(3, int(num**0.5) + 1, 2):\n",
    "        if num % i == 0:\n",
    "            return False\n",
    "    return True\n",
    "\n",
    "def find_n_primes(numbers, n):\n",
    "    prime_numbers = []\n",
    "    for num in numbers:\n",
    "        if is_prime(num):\n",
    "            prime_numbers.append(num)\n",
    "            if len(prime_numbers) == n:\n",
    "                break\n",
    "    return prime_numbers\n",
    "\n",
    "# Example usage:\n",
    "given_numbers = [2, 3, 4, 5, 6, 7, 8, 9, 10, 13, 14, 15]\n",
    "n = 5\n",
    "prime_list = find_n_primes(given_numbers, n)\n",
    "print(f\"The first {n} prime numbers from the given list are:\", prime_list)\n"
   ]
  },
  {
   "cell_type": "markdown",
   "id": "3db85ac4",
   "metadata": {},
   "source": [
    "# 6. To write a python program to compute matrix multiplication"
   ]
  },
  {
   "cell_type": "code",
   "execution_count": 10,
   "id": "d16178c3",
   "metadata": {},
   "outputs": [
    {
     "name": "stdout",
     "output_type": "stream",
     "text": [
      "Matrix A:\n",
      "[1, 2]\n",
      "[3, 4]\n",
      "\n",
      "Matrix B:\n",
      "[5, 6]\n",
      "[7, 8]\n",
      "\n",
      "Result Matrix:\n",
      "[19, 22]\n",
      "[43, 50]\n"
     ]
    }
   ],
   "source": [
    "def matrix_multiply(matrix1, matrix2):\n",
    "    # Check if matrices can be multiplied\n",
    "    if len(matrix1[0]) != len(matrix2):\n",
    "        print(\"Matrix multiplication is not possible. The number of columns in the first matrix must be equal to the number of rows in the second matrix.\")\n",
    "        return None\n",
    "\n",
    "    # Initialize the result matrix with zeros\n",
    "    result = [[0 for _ in range(len(matrix2[0]))] for _ in range(len(matrix1))]\n",
    "\n",
    "    # Perform matrix multiplication\n",
    "    for i in range(len(matrix1)):\n",
    "        for j in range(len(matrix2[0])):\n",
    "            for k in range(len(matrix2)):\n",
    "                result[i][j] += matrix1[i][k] * matrix2[k][j]\n",
    "\n",
    "    return result\n",
    "\n",
    "# Example matrices\n",
    "matrix_A = [\n",
    "    [1, 2],\n",
    "    [3, 4]\n",
    "]\n",
    "\n",
    "matrix_B = [\n",
    "    [5, 6],\n",
    "    [7, 8]\n",
    "]\n",
    "\n",
    "# Perform matrix multiplication\n",
    "result_matrix = matrix_multiply(matrix_A, matrix_B)\n",
    "\n",
    "# Print the result\n",
    "if result_matrix:\n",
    "    print(\"Matrix A:\")\n",
    "    for row in matrix_A:\n",
    "        print(row)\n",
    "\n",
    "    print(\"\\nMatrix B:\")\n",
    "    for row in matrix_B:\n",
    "        print(row)\n",
    "\n",
    "    print(\"\\nResult Matrix:\")\n",
    "    for row in result_matrix:\n",
    "        print(row)\n"
   ]
  },
  {
   "cell_type": "markdown",
   "id": "9cd5ffa6",
   "metadata": {},
   "source": [
    "# 7. write a python function to count the number of vowels in a string"
   ]
  },
  {
   "cell_type": "code",
   "execution_count": 11,
   "id": "54178c7a",
   "metadata": {},
   "outputs": [
    {
     "name": "stdout",
     "output_type": "stream",
     "text": [
      "Number of vowels in the string: 3\n"
     ]
    }
   ],
   "source": [
    "def count_vowels(s):\n",
    "    # Convert the input string to lowercase to handle both upper and lower case vowels\n",
    "    s = s.lower()\n",
    "    \n",
    "    # Initialize a variable to count vowels\n",
    "    vowel_count = 0\n",
    "    \n",
    "    # Define a set of vowels\n",
    "    vowels = {'a', 'e', 'i', 'o', 'u'}\n",
    "    \n",
    "    # Iterate through the characters in the string\n",
    "    for char in s:\n",
    "        if char in vowels:\n",
    "            vowel_count += 1\n",
    "    \n",
    "    return vowel_count\n",
    "\n",
    "# Example usage:\n",
    "input_string = \"Hello, World!\"\n",
    "vowel_count = count_vowels(input_string)\n",
    "print(\"Number of vowels in the string:\", vowel_count)\n"
   ]
  },
  {
   "cell_type": "markdown",
   "id": "d26504fa",
   "metadata": {},
   "source": [
    "# 8. write a python function for finding factorial for the given number using a recursive function"
   ]
  },
  {
   "cell_type": "code",
   "execution_count": 12,
   "id": "060edfb8",
   "metadata": {},
   "outputs": [
    {
     "name": "stdout",
     "output_type": "stream",
     "text": [
      "The factorial of 5 is 120\n"
     ]
    }
   ],
   "source": [
    "def factorial_recursive(n):\n",
    "    # Base case: factorial of 0 or 1 is 1\n",
    "    if n == 0 or n == 1:\n",
    "        return 1\n",
    "    # Recursive case: factorial of n is n times factorial of (n-1)\n",
    "    else:\n",
    "        return n * factorial_recursive(n - 1)\n",
    "\n",
    "# Example usage:\n",
    "number = 5\n",
    "result = factorial_recursive(number)\n",
    "print(f\"The factorial of {number} is {result}\")\n"
   ]
  },
  {
   "cell_type": "markdown",
   "id": "052dca75",
   "metadata": {},
   "source": [
    "# 9. write a python function for generating the fibonacci series using the function"
   ]
  },
  {
   "cell_type": "code",
   "execution_count": 13,
   "id": "6d0c08d8",
   "metadata": {},
   "outputs": [
    {
     "name": "stdout",
     "output_type": "stream",
     "text": [
      "Fibonacci series up to 10 terms: [0, 1, 1, 2, 3, 5, 8, 13, 21, 34]\n"
     ]
    }
   ],
   "source": [
    "def fibonacci_recursive(n):\n",
    "    if n <= 0:\n",
    "        return []\n",
    "    elif n == 1:\n",
    "        return [0]\n",
    "    elif n == 2:\n",
    "        return [0, 1]\n",
    "    else:\n",
    "        fib_series = fibonacci_recursive(n - 1)\n",
    "        fib_series.append(fib_series[-1] + fib_series[-2])\n",
    "        return fib_series\n",
    "\n",
    "# Example usage:\n",
    "limit = 10\n",
    "fib_series = fibonacci_recursive(limit)\n",
    "print(\"Fibonacci series up to\", limit, \"terms:\", fib_series)\n"
   ]
  },
  {
   "cell_type": "markdown",
   "id": "da45be7a",
   "metadata": {},
   "source": [
    "# 10 python program to display the given integer in reverse order using the function without an in-built function."
   ]
  },
  {
   "cell_type": "code",
   "execution_count": 16,
   "id": "07ddaaa6",
   "metadata": {},
   "outputs": [
    {
     "name": "stdout",
     "output_type": "stream",
     "text": [
      "The reversed integer of 67892 is 29876\n"
     ]
    }
   ],
   "source": [
    "def reverse_integer(num):\n",
    "    if num < 0:\n",
    "        # Handle negative numbers by converting them to positive\n",
    "        num = -num\n",
    "        is_negative = True\n",
    "    else:\n",
    "        is_negative = False\n",
    "    \n",
    "    # Convert the integer to a string\n",
    "    num_str = str(num)\n",
    "    \n",
    "    # Reverse the string\n",
    "    reversed_str = num_str[::-1]\n",
    "    \n",
    "    if is_negative:\n",
    "        reversed_str = '-' + reversed_str\n",
    "    \n",
    "    return int(reversed_str)\n",
    "\n",
    "# Example usage:\n",
    "input_number = 67892\n",
    "reversed_number = reverse_integer(input_number)\n",
    "print(f\"The reversed integer of {input_number} is {reversed_number}\")\n"
   ]
  },
  {
   "cell_type": "markdown",
   "id": "516e1abb",
   "metadata": {},
   "source": [
    "# 11 write a python function to display all integers within the range 200-300 whose sum of digits is an even number."
   ]
  },
  {
   "cell_type": "code",
   "execution_count": 17,
   "id": "bc5568d2",
   "metadata": {},
   "outputs": [
    {
     "name": "stdout",
     "output_type": "stream",
     "text": [
      "Numbers in the range 200 to 300 with an even digit sum: [200, 202, 204, 206, 208, 211, 213, 215, 217, 219, 220, 222, 224, 226, 228, 231, 233, 235, 237, 239, 240, 242, 244, 246, 248, 251, 253, 255, 257, 259, 260, 262, 264, 266, 268, 271, 273, 275, 277, 279, 280, 282, 284, 286, 288, 291, 293, 295, 297, 299]\n"
     ]
    }
   ],
   "source": [
    "def sum_of_digits_even(num):\n",
    "    # Calculate the sum of the digits of a number\n",
    "    digit_sum = sum(int(digit) for digit in str(num))\n",
    "    return digit_sum % 2 == 0\n",
    "\n",
    "def find_numbers_with_even_digit_sum(start, end):\n",
    "    result = []\n",
    "    for num in range(start, end + 1):\n",
    "        if sum_of_digits_even(num):\n",
    "            result.append(num)\n",
    "    return result\n",
    "\n",
    "# Example usage:\n",
    "start_range = 200\n",
    "end_range = 300\n",
    "numbers_with_even_digit_sum = find_numbers_with_even_digit_sum(start_range, end_range)\n",
    "print(\"Numbers in the range\", start_range, \"to\", end_range, \"with an even digit sum:\", numbers_with_even_digit_sum)\n"
   ]
  },
  {
   "cell_type": "markdown",
   "id": "e0f934e8",
   "metadata": {},
   "source": [
    "# 12 write a python function to find the number of digits and sum of digits for a given integer"
   ]
  },
  {
   "cell_type": "code",
   "execution_count": 8,
   "id": "64a4611d",
   "metadata": {},
   "outputs": [
    {
     "name": "stdout",
     "output_type": "stream",
     "text": [
      " enter any number 44\n",
      "Given number has 2 digits, whose sum is 8\n"
     ]
    }
   ],
   "source": [
    "def operation_on_digits(n):\n",
    "  num_of_digits = sum_of_digits = 0\n",
    "  while(n != 0):\n",
    "    num_of_digits += 1\n",
    "    last_digit = n%10\n",
    "    sum_of_digits += last_digit\n",
    "    n = n//10\n",
    "  return sum_of_digits,num_of_digits\n",
    "\n",
    "n = int(input(\" enter any number \"))\n",
    "sum_of_digits,num_of_digits = operation_on_digits(n)\n",
    "print(f\"Given number has {num_of_digits} digits, whose sum is {sum_of_digits}\")"
   ]
  },
  {
   "cell_type": "markdown",
   "id": "b26b6b67",
   "metadata": {},
   "source": [
    "# 13 write a function called is_sorted that takes a list as a parameter and returns True if the list is sorted in ascending order false otherwise and has_duplicates that takes a list and returns True if there is any element that appears more than once. It should not modify the origin list"
   ]
  },
  {
   "cell_type": "code",
   "execution_count": 3,
   "id": "ecce041a",
   "metadata": {},
   "outputs": [
    {
     "name": "stdout",
     "output_type": "stream",
     "text": [
      "Enter the size of the list: 5\n",
      "Enter the number in to the list1: 23\n",
      "Enter the number in to the list1: 42\n",
      "Enter the number in to the list1: 65\n",
      "Enter the number in to the list1: 78\n",
      "Enter the number in to the list1: 12\n",
      "\n",
      "Using is_sorted fucntion the list\n",
      " [23, 42, 65, 78, 12]  is a sorted list\n",
      "Enter the number in to the list2: 42\n",
      "Enter the number in to the list2: 67\n",
      "Enter the number in to the list2: 87\n",
      "Enter the number in to the list2: 92\n",
      "Enter the number in to the list2: 13\n",
      "Using has_duplicates fucntion the list\n",
      " [42, 67, 87, 92, 13]  has no duplicates in it\n"
     ]
    }
   ],
   "source": [
    "def is_sorted(nums):\n",
    "    for i in range(1, len(nums)):\n",
    "        if(nums[i]>nums[i-1]):\n",
    "            return True\n",
    "    return False\n",
    "def has_duplicates(nums):\n",
    "    vis = set()\n",
    "    for i in nums:\n",
    "        if i in vis:\n",
    "            return True\n",
    "        vis.add(i)\n",
    "    return False\n",
    "# inputs for is_sorted fucntion\n",
    "n = int(input(\"Enter the size of the list: \"))\n",
    "nums1=[]\n",
    "for i in range(0, n):\n",
    "    ele = int(input(\"Enter the number in to the list1: \"))\n",
    "    nums1.append(ele)\n",
    "# calling is_sorted function\n",
    "ans1 = is_sorted(nums1)\n",
    "if ans1:\n",
    "    print(\"\\nUsing is_sorted fucntion the list\\n\",nums1, \" is a sorted list\")\n",
    "else:\n",
    "    print(\"\\nUsing is_sorted fucntion the list\\n\", nums1,\" is not a sorted list\")\n",
    "\n",
    "# inputs for has_duplicate function\n",
    "nums2=[]\n",
    "\n",
    "for i in range(0, n):\n",
    "    ele = int(input(\"Enter the number in to the list2: \"))\n",
    "    nums2.append(ele)\n",
    "# calling has_duplicates function\n",
    "ans2 = has_duplicates(nums2)\n",
    "\n",
    "if ans2:\n",
    "    print(\"Using has_duplicates fucntion the list\\n\",nums2,\"has duplicates in it\")\n",
    "else:\n",
    "    print(\"Using has_duplicates fucntion the list\\n\",nums2, \" has no duplicates in it\")\n",
    "     "
   ]
  },
  {
   "cell_type": "markdown",
   "id": "c198e6ac",
   "metadata": {},
   "source": [
    "# 14. write functions called nested_sum that takes a list of integers and adds up the elements from all the nested lists and cumsum that takes a list of numbers and returns the cumulative sum; that is, a new list where the ith element is the sum of the first i+1 elements from the original list.\n"
   ]
  },
  {
   "cell_type": "code",
   "execution_count": 5,
   "id": "55c4d1da",
   "metadata": {},
   "outputs": [
    {
     "name": "stdout",
     "output_type": "stream",
     "text": [
      "Using nested_sum the\n",
      " [1, [2, 3], [4, 5, 6], [7, 8, 9, 10]]\n",
      "sum is 55\n",
      "\n",
      "Using cum_sum the\n",
      " [10, 20, 30, 40, 50]\n",
      "answer list is [10, 30, 60, 100, 150]\n"
     ]
    }
   ],
   "source": [
    "def nested_sum(nums):\n",
    "    sum = 0\n",
    "    for i in nums:\n",
    "        if isinstance(i, list):\n",
    "            sum += nested_sum(i)\n",
    "        elif isinstance(i, int):\n",
    "            sum += i\n",
    "    return sum\n",
    "# creating nested list for the fun nested_sum\n",
    "nums1 = [1, [2, 3], [4, 5, 6],[7, 8, 9, 10]]\n",
    "# calling the nested_sum function\n",
    "ans1 = nested_sum(nums1)\n",
    "print(f\"Using nested_sum the\\n {nums1}\\nsum is {ans1}\")\n",
    "# cummsum function\n",
    "def cum_sum(nums):\n",
    "    sum = 0\n",
    "    ans = []\n",
    "    for i in nums:\n",
    "        sum += i\n",
    "        ans.append(sum)\n",
    "    return ans\n",
    "# list for cum_sum\n",
    "nums2 = [10, 20, 30, 40, 50]\n",
    "# calling the cum_sum function\n",
    "ans2 = cum_sum(nums2)\n",
    "print(f\"\\nUsing cum_sum the\\n {nums2}\\nanswer list is {ans2}\")"
   ]
  },
  {
   "cell_type": "code",
   "execution_count": null,
   "id": "fa418a5b",
   "metadata": {},
   "outputs": [],
   "source": []
  }
 ],
 "metadata": {
  "kernelspec": {
   "display_name": "Python 3 (ipykernel)",
   "language": "python",
   "name": "python3"
  },
  "language_info": {
   "codemirror_mode": {
    "name": "ipython",
    "version": 3
   },
   "file_extension": ".py",
   "mimetype": "text/x-python",
   "name": "python",
   "nbconvert_exporter": "python",
   "pygments_lexer": "ipython3",
   "version": "3.11.4"
  }
 },
 "nbformat": 4,
 "nbformat_minor": 5
}
